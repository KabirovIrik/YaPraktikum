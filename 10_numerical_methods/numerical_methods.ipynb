{
 "cells": [
  {
   "cell_type": "markdown",
   "metadata": {},
   "source": [
    "Сервис по продаже автомобилей с пробегом «Не бит, не крашен» разрабатывает приложение для привлечения новых клиентов. В нём можно быстро узнать рыночную стоимость своего автомобиля. В вашем распоряжении исторические данные: технические характеристики, комплектации и цены автомобилей. Вам нужно построить модель для определения стоимости. \n",
    "\n",
    "Заказчику важны:\n",
    "\n",
    "- качество предсказания;\n",
    "- скорость предсказания;\n",
    "- время обучения."
   ]
  },
  {
   "cell_type": "markdown",
   "metadata": {},
   "source": [
    "# 1. Подготовка данных"
   ]
  },
  {
   "cell_type": "code",
   "execution_count": 1,
   "metadata": {},
   "outputs": [],
   "source": [
    "import pandas as pd\n",
    "import numpy as np\n",
    "import seaborn as sns\n",
    "import matplotlib.pyplot as plt\n",
    "from math import sqrt\n",
    "\n",
    "\n",
    "from sklearn.model_selection import train_test_split\n",
    "from sklearn.metrics import mean_squared_error as mse\n",
    "import xgboost as xgb\n",
    "import lightgbm as lgb\n",
    "from catboost import CatBoostRegressor, Pool\n",
    "\n",
    "df = pd.read_csv('/datasets/autos.csv')"
   ]
  },
  {
   "cell_type": "markdown",
   "metadata": {},
   "source": [
    "## 1.1 Просмотр данных"
   ]
  },
  {
   "cell_type": "code",
   "execution_count": 2,
   "metadata": {},
   "outputs": [
    {
     "data": {
      "text/html": [
       "<div>\n",
       "<style scoped>\n",
       "    .dataframe tbody tr th:only-of-type {\n",
       "        vertical-align: middle;\n",
       "    }\n",
       "\n",
       "    .dataframe tbody tr th {\n",
       "        vertical-align: top;\n",
       "    }\n",
       "\n",
       "    .dataframe thead th {\n",
       "        text-align: right;\n",
       "    }\n",
       "</style>\n",
       "<table border=\"1\" class=\"dataframe\">\n",
       "  <thead>\n",
       "    <tr style=\"text-align: right;\">\n",
       "      <th></th>\n",
       "      <th>DateCrawled</th>\n",
       "      <th>Price</th>\n",
       "      <th>VehicleType</th>\n",
       "      <th>RegistrationYear</th>\n",
       "      <th>Gearbox</th>\n",
       "      <th>Power</th>\n",
       "      <th>Model</th>\n",
       "      <th>Kilometer</th>\n",
       "      <th>RegistrationMonth</th>\n",
       "      <th>FuelType</th>\n",
       "      <th>Brand</th>\n",
       "      <th>NotRepaired</th>\n",
       "      <th>DateCreated</th>\n",
       "      <th>NumberOfPictures</th>\n",
       "      <th>PostalCode</th>\n",
       "      <th>LastSeen</th>\n",
       "    </tr>\n",
       "  </thead>\n",
       "  <tbody>\n",
       "    <tr>\n",
       "      <td>0</td>\n",
       "      <td>2016-03-24 11:52:17</td>\n",
       "      <td>480</td>\n",
       "      <td>NaN</td>\n",
       "      <td>1993</td>\n",
       "      <td>manual</td>\n",
       "      <td>0</td>\n",
       "      <td>golf</td>\n",
       "      <td>150000</td>\n",
       "      <td>0</td>\n",
       "      <td>petrol</td>\n",
       "      <td>volkswagen</td>\n",
       "      <td>NaN</td>\n",
       "      <td>2016-03-24 00:00:00</td>\n",
       "      <td>0</td>\n",
       "      <td>70435</td>\n",
       "      <td>2016-04-07 03:16:57</td>\n",
       "    </tr>\n",
       "    <tr>\n",
       "      <td>1</td>\n",
       "      <td>2016-03-24 10:58:45</td>\n",
       "      <td>18300</td>\n",
       "      <td>coupe</td>\n",
       "      <td>2011</td>\n",
       "      <td>manual</td>\n",
       "      <td>190</td>\n",
       "      <td>NaN</td>\n",
       "      <td>125000</td>\n",
       "      <td>5</td>\n",
       "      <td>gasoline</td>\n",
       "      <td>audi</td>\n",
       "      <td>yes</td>\n",
       "      <td>2016-03-24 00:00:00</td>\n",
       "      <td>0</td>\n",
       "      <td>66954</td>\n",
       "      <td>2016-04-07 01:46:50</td>\n",
       "    </tr>\n",
       "    <tr>\n",
       "      <td>2</td>\n",
       "      <td>2016-03-14 12:52:21</td>\n",
       "      <td>9800</td>\n",
       "      <td>suv</td>\n",
       "      <td>2004</td>\n",
       "      <td>auto</td>\n",
       "      <td>163</td>\n",
       "      <td>grand</td>\n",
       "      <td>125000</td>\n",
       "      <td>8</td>\n",
       "      <td>gasoline</td>\n",
       "      <td>jeep</td>\n",
       "      <td>NaN</td>\n",
       "      <td>2016-03-14 00:00:00</td>\n",
       "      <td>0</td>\n",
       "      <td>90480</td>\n",
       "      <td>2016-04-05 12:47:46</td>\n",
       "    </tr>\n",
       "    <tr>\n",
       "      <td>3</td>\n",
       "      <td>2016-03-17 16:54:04</td>\n",
       "      <td>1500</td>\n",
       "      <td>small</td>\n",
       "      <td>2001</td>\n",
       "      <td>manual</td>\n",
       "      <td>75</td>\n",
       "      <td>golf</td>\n",
       "      <td>150000</td>\n",
       "      <td>6</td>\n",
       "      <td>petrol</td>\n",
       "      <td>volkswagen</td>\n",
       "      <td>no</td>\n",
       "      <td>2016-03-17 00:00:00</td>\n",
       "      <td>0</td>\n",
       "      <td>91074</td>\n",
       "      <td>2016-03-17 17:40:17</td>\n",
       "    </tr>\n",
       "    <tr>\n",
       "      <td>4</td>\n",
       "      <td>2016-03-31 17:25:20</td>\n",
       "      <td>3600</td>\n",
       "      <td>small</td>\n",
       "      <td>2008</td>\n",
       "      <td>manual</td>\n",
       "      <td>69</td>\n",
       "      <td>fabia</td>\n",
       "      <td>90000</td>\n",
       "      <td>7</td>\n",
       "      <td>gasoline</td>\n",
       "      <td>skoda</td>\n",
       "      <td>no</td>\n",
       "      <td>2016-03-31 00:00:00</td>\n",
       "      <td>0</td>\n",
       "      <td>60437</td>\n",
       "      <td>2016-04-06 10:17:21</td>\n",
       "    </tr>\n",
       "  </tbody>\n",
       "</table>\n",
       "</div>"
      ],
      "text/plain": [
       "           DateCrawled  Price VehicleType  RegistrationYear Gearbox  Power  \\\n",
       "0  2016-03-24 11:52:17    480         NaN              1993  manual      0   \n",
       "1  2016-03-24 10:58:45  18300       coupe              2011  manual    190   \n",
       "2  2016-03-14 12:52:21   9800         suv              2004    auto    163   \n",
       "3  2016-03-17 16:54:04   1500       small              2001  manual     75   \n",
       "4  2016-03-31 17:25:20   3600       small              2008  manual     69   \n",
       "\n",
       "   Model  Kilometer  RegistrationMonth  FuelType       Brand NotRepaired  \\\n",
       "0   golf     150000                  0    petrol  volkswagen         NaN   \n",
       "1    NaN     125000                  5  gasoline        audi         yes   \n",
       "2  grand     125000                  8  gasoline        jeep         NaN   \n",
       "3   golf     150000                  6    petrol  volkswagen          no   \n",
       "4  fabia      90000                  7  gasoline       skoda          no   \n",
       "\n",
       "           DateCreated  NumberOfPictures  PostalCode             LastSeen  \n",
       "0  2016-03-24 00:00:00                 0       70435  2016-04-07 03:16:57  \n",
       "1  2016-03-24 00:00:00                 0       66954  2016-04-07 01:46:50  \n",
       "2  2016-03-14 00:00:00                 0       90480  2016-04-05 12:47:46  \n",
       "3  2016-03-17 00:00:00                 0       91074  2016-03-17 17:40:17  \n",
       "4  2016-03-31 00:00:00                 0       60437  2016-04-06 10:17:21  "
      ]
     },
     "execution_count": 2,
     "metadata": {},
     "output_type": "execute_result"
    }
   ],
   "source": [
    "df.head()"
   ]
  },
  {
   "cell_type": "code",
   "execution_count": 3,
   "metadata": {},
   "outputs": [
    {
     "name": "stdout",
     "output_type": "stream",
     "text": [
      "<class 'pandas.core.frame.DataFrame'>\n",
      "RangeIndex: 354369 entries, 0 to 354368\n",
      "Data columns (total 16 columns):\n",
      "DateCrawled          354369 non-null object\n",
      "Price                354369 non-null int64\n",
      "VehicleType          316879 non-null object\n",
      "RegistrationYear     354369 non-null int64\n",
      "Gearbox              334536 non-null object\n",
      "Power                354369 non-null int64\n",
      "Model                334664 non-null object\n",
      "Kilometer            354369 non-null int64\n",
      "RegistrationMonth    354369 non-null int64\n",
      "FuelType             321474 non-null object\n",
      "Brand                354369 non-null object\n",
      "NotRepaired          283215 non-null object\n",
      "DateCreated          354369 non-null object\n",
      "NumberOfPictures     354369 non-null int64\n",
      "PostalCode           354369 non-null int64\n",
      "LastSeen             354369 non-null object\n",
      "dtypes: int64(7), object(9)\n",
      "memory usage: 43.3+ MB\n"
     ]
    }
   ],
   "source": [
    "df.info()"
   ]
  },
  {
   "cell_type": "code",
   "execution_count": 4,
   "metadata": {},
   "outputs": [
    {
     "data": {
      "text/html": [
       "<div>\n",
       "<style scoped>\n",
       "    .dataframe tbody tr th:only-of-type {\n",
       "        vertical-align: middle;\n",
       "    }\n",
       "\n",
       "    .dataframe tbody tr th {\n",
       "        vertical-align: top;\n",
       "    }\n",
       "\n",
       "    .dataframe thead th {\n",
       "        text-align: right;\n",
       "    }\n",
       "</style>\n",
       "<table border=\"1\" class=\"dataframe\">\n",
       "  <thead>\n",
       "    <tr style=\"text-align: right;\">\n",
       "      <th></th>\n",
       "      <th>Price</th>\n",
       "      <th>RegistrationYear</th>\n",
       "      <th>Power</th>\n",
       "      <th>Kilometer</th>\n",
       "      <th>RegistrationMonth</th>\n",
       "      <th>NumberOfPictures</th>\n",
       "      <th>PostalCode</th>\n",
       "    </tr>\n",
       "  </thead>\n",
       "  <tbody>\n",
       "    <tr>\n",
       "      <td>count</td>\n",
       "      <td>354369.000000</td>\n",
       "      <td>354369.000000</td>\n",
       "      <td>354369.000000</td>\n",
       "      <td>354369.000000</td>\n",
       "      <td>354369.000000</td>\n",
       "      <td>354369.0</td>\n",
       "      <td>354369.000000</td>\n",
       "    </tr>\n",
       "    <tr>\n",
       "      <td>mean</td>\n",
       "      <td>4416.656776</td>\n",
       "      <td>2004.234448</td>\n",
       "      <td>110.094337</td>\n",
       "      <td>128211.172535</td>\n",
       "      <td>5.714645</td>\n",
       "      <td>0.0</td>\n",
       "      <td>50508.689087</td>\n",
       "    </tr>\n",
       "    <tr>\n",
       "      <td>std</td>\n",
       "      <td>4514.158514</td>\n",
       "      <td>90.227958</td>\n",
       "      <td>189.850405</td>\n",
       "      <td>37905.341530</td>\n",
       "      <td>3.726421</td>\n",
       "      <td>0.0</td>\n",
       "      <td>25783.096248</td>\n",
       "    </tr>\n",
       "    <tr>\n",
       "      <td>min</td>\n",
       "      <td>0.000000</td>\n",
       "      <td>1000.000000</td>\n",
       "      <td>0.000000</td>\n",
       "      <td>5000.000000</td>\n",
       "      <td>0.000000</td>\n",
       "      <td>0.0</td>\n",
       "      <td>1067.000000</td>\n",
       "    </tr>\n",
       "    <tr>\n",
       "      <td>25%</td>\n",
       "      <td>1050.000000</td>\n",
       "      <td>1999.000000</td>\n",
       "      <td>69.000000</td>\n",
       "      <td>125000.000000</td>\n",
       "      <td>3.000000</td>\n",
       "      <td>0.0</td>\n",
       "      <td>30165.000000</td>\n",
       "    </tr>\n",
       "    <tr>\n",
       "      <td>50%</td>\n",
       "      <td>2700.000000</td>\n",
       "      <td>2003.000000</td>\n",
       "      <td>105.000000</td>\n",
       "      <td>150000.000000</td>\n",
       "      <td>6.000000</td>\n",
       "      <td>0.0</td>\n",
       "      <td>49413.000000</td>\n",
       "    </tr>\n",
       "    <tr>\n",
       "      <td>75%</td>\n",
       "      <td>6400.000000</td>\n",
       "      <td>2008.000000</td>\n",
       "      <td>143.000000</td>\n",
       "      <td>150000.000000</td>\n",
       "      <td>9.000000</td>\n",
       "      <td>0.0</td>\n",
       "      <td>71083.000000</td>\n",
       "    </tr>\n",
       "    <tr>\n",
       "      <td>max</td>\n",
       "      <td>20000.000000</td>\n",
       "      <td>9999.000000</td>\n",
       "      <td>20000.000000</td>\n",
       "      <td>150000.000000</td>\n",
       "      <td>12.000000</td>\n",
       "      <td>0.0</td>\n",
       "      <td>99998.000000</td>\n",
       "    </tr>\n",
       "  </tbody>\n",
       "</table>\n",
       "</div>"
      ],
      "text/plain": [
       "               Price  RegistrationYear          Power      Kilometer  \\\n",
       "count  354369.000000     354369.000000  354369.000000  354369.000000   \n",
       "mean     4416.656776       2004.234448     110.094337  128211.172535   \n",
       "std      4514.158514         90.227958     189.850405   37905.341530   \n",
       "min         0.000000       1000.000000       0.000000    5000.000000   \n",
       "25%      1050.000000       1999.000000      69.000000  125000.000000   \n",
       "50%      2700.000000       2003.000000     105.000000  150000.000000   \n",
       "75%      6400.000000       2008.000000     143.000000  150000.000000   \n",
       "max     20000.000000       9999.000000   20000.000000  150000.000000   \n",
       "\n",
       "       RegistrationMonth  NumberOfPictures     PostalCode  \n",
       "count      354369.000000          354369.0  354369.000000  \n",
       "mean            5.714645               0.0   50508.689087  \n",
       "std             3.726421               0.0   25783.096248  \n",
       "min             0.000000               0.0    1067.000000  \n",
       "25%             3.000000               0.0   30165.000000  \n",
       "50%             6.000000               0.0   49413.000000  \n",
       "75%             9.000000               0.0   71083.000000  \n",
       "max            12.000000               0.0   99998.000000  "
      ]
     },
     "execution_count": 4,
     "metadata": {},
     "output_type": "execute_result"
    }
   ],
   "source": [
    "df.describe()"
   ]
  },
  {
   "cell_type": "markdown",
   "metadata": {},
   "source": [
    "- Есть столбцы, которые можно преоброзовать в Дату/время\n",
    "- В столбцах **Price**, **RegistrationYear**, **Power**, **RegistrationMonth**  есть \"неадекватные\" данные: слишком маленькие или большие значения, например год регистрации *1000* или *9999*\n",
    "- Также можно заметить, что пропуски есть только у категориальных признаков, возможно стоит их оставить пропусками, т.е. пропуск — это отдельная категория признака\n",
    "- **NumberOfPictures** у все строк значение 0, можно удалить этот столбец\n",
    "- Признаки **DateCrawled**, **LastSeen** и **NumberOfPictures** (возможно и **DateCreated**) можно назвать незначащими, т.к. не могут влиять на стоимость автомобиля\n",
    "- Стоит соединить год и месяц регистрации для получения нового признака (**DateRegister**). И еще признак **DateDiff**: разница между **DateCreated** и **DateRegister**\n",
    "- ~Из первых трех (или двух, или четырех) цифр почтового индекса (**PostalCode**) можно получить регион~ не прокатило"
   ]
  },
  {
   "cell_type": "markdown",
   "metadata": {},
   "source": [
    "## 1.2 Изучение данных"
   ]
  },
  {
   "cell_type": "markdown",
   "metadata": {},
   "source": [
    "<hr>\n",
    "\n",
    "Взглянем на цену"
   ]
  },
  {
   "cell_type": "code",
   "execution_count": 5,
   "metadata": {},
   "outputs": [
    {
     "data": {
      "image/png": "[encoded data removed]",
      "text/plain": [
       "<Figure size 864x432 with 2 Axes>"
      ]
     },
     "metadata": {
      "needs_background": "light"
     },
     "output_type": "display_data"
    }
   ],
   "source": [
    "fig, (ax1, ax2) = plt.subplots(1, 2)\n",
    "fig.set_figheight(6)\n",
    "fig.set_figwidth(12)\n",
    "_ = ax1.hist(df['Price'], bins=20)\n",
    "_ = ax2.hist(df[(df['Price'] > 0) & (df['Price'] < 100)]['Price'], bins=20)"
   ]
  },
  {
   "cell_type": "code",
   "execution_count": 6,
   "metadata": {},
   "outputs": [
    {
     "data": {
      "text/plain": [
       "10772"
      ]
     },
     "execution_count": 6,
     "metadata": {},
     "output_type": "execute_result"
    }
   ],
   "source": [
    "df[df['Price'] == 0].shape[0]"
   ]
  },
  {
   "cell_type": "markdown",
   "metadata": {},
   "source": [
    "Удалим записи цена которых ниже  10 евро."
   ]
  },
  {
   "cell_type": "code",
   "execution_count": 7,
   "metadata": {},
   "outputs": [
    {
     "name": "stdout",
     "output_type": "stream",
     "text": [
      "<class 'pandas.core.frame.DataFrame'>\n",
      "Int64Index: 342341 entries, 0 to 354368\n",
      "Data columns (total 16 columns):\n",
      "DateCrawled          342341 non-null object\n",
      "Price                342341 non-null int64\n",
      "VehicleType          309092 non-null object\n",
      "RegistrationYear     342341 non-null int64\n",
      "Gearbox              325391 non-null object\n",
      "Power                342341 non-null int64\n",
      "Model                325095 non-null object\n",
      "Kilometer            342341 non-null int64\n",
      "RegistrationMonth    342341 non-null int64\n",
      "FuelType             313357 non-null object\n",
      "Brand                342341 non-null object\n",
      "NotRepaired          277152 non-null object\n",
      "DateCreated          342341 non-null object\n",
      "NumberOfPictures     342341 non-null int64\n",
      "PostalCode           342341 non-null int64\n",
      "LastSeen             342341 non-null object\n",
      "dtypes: int64(7), object(9)\n",
      "memory usage: 44.4+ MB\n"
     ]
    }
   ],
   "source": [
    "df = df[df['Price'] >= 10]\n",
    "df.info()"
   ]
  },
  {
   "cell_type": "markdown",
   "metadata": {},
   "source": [
    "<hr>\n",
    "\n",
    "Посмотрим на распределение года регистрации"
   ]
  },
  {
   "cell_type": "code",
   "execution_count": 8,
   "metadata": {},
   "outputs": [
    {
     "data": {
      "text/plain": [
       "(array([4.50000e+01, 0.00000e+00, 3.00000e+00, 1.20000e+01, 2.30000e+01,\n",
       "        1.40000e+01, 1.50000e+01, 4.70000e+01, 1.11000e+02, 3.19000e+02,\n",
       "        5.06000e+02, 1.10800e+03, 1.33100e+03, 2.48400e+03, 7.77300e+03,\n",
       "        4.37860e+04, 1.00180e+05, 1.12111e+05, 4.60940e+04, 2.62480e+04]),\n",
       " array([1910.  , 1915.45, 1920.9 , 1926.35, 1931.8 , 1937.25, 1942.7 ,\n",
       "        1948.15, 1953.6 , 1959.05, 1964.5 , 1969.95, 1975.4 , 1980.85,\n",
       "        1986.3 , 1991.75, 1997.2 , 2002.65, 2008.1 , 2013.55, 2019.  ]),\n",
       " <a list of 20 Patch objects>)"
      ]
     },
     "execution_count": 8,
     "metadata": {},
     "output_type": "execute_result"
    },
    {
     "data": {
      "image/png": "[encoded data removed]",
      "text/plain": [
       "<Figure size 864x432 with 2 Axes>"
      ]
     },
     "metadata": {
      "needs_background": "light"
     },
     "output_type": "display_data"
    }
   ],
   "source": [
    "fig, (ax1, ax2) = plt.subplots(1, 2)\n",
    "fig.set_figheight(6)\n",
    "fig.set_figwidth(12)\n",
    "ax1.hist(df['RegistrationYear'], bins=20)\n",
    "ax2.hist(df[(df['RegistrationYear'] > 1900) & (df['RegistrationYear'] < 2020)]['RegistrationYear'], bins=20)\n"
   ]
  },
  {
   "cell_type": "markdown",
   "metadata": {},
   "source": [
    "Есть выбросы слева и справа от которы стоит избавиться. Оставим записи c 1900 по 2020 года"
   ]
  },
  {
   "cell_type": "code",
   "execution_count": 9,
   "metadata": {
    "scrolled": true
   },
   "outputs": [
    {
     "data": {
      "text/plain": [
       "count    342210.000000\n",
       "mean       2003.193329\n",
       "std           7.338434\n",
       "min        1910.000000\n",
       "25%        1999.000000\n",
       "50%        2003.000000\n",
       "75%        2008.000000\n",
       "max        2019.000000\n",
       "Name: RegistrationYear, dtype: float64"
      ]
     },
     "execution_count": 9,
     "metadata": {},
     "output_type": "execute_result"
    }
   ],
   "source": [
    "df = df[(df['RegistrationYear'] > 1900) & (df['RegistrationYear'] < 2020)]\n",
    "df['RegistrationYear'].describe()"
   ]
  },
  {
   "cell_type": "markdown",
   "metadata": {},
   "source": [
    "<hr>\n",
    "\n",
    "Посмотрим на мощность"
   ]
  },
  {
   "cell_type": "code",
   "execution_count": 10,
   "metadata": {},
   "outputs": [
    {
     "data": {
      "text/plain": [
       "(array([   72.,   127.,    63.,    56.,    92.,    81.,   321.,    78.,\n",
       "          251.,   506.,   983.,  3029.,  4882.,  8086., 19604.,  3011.,\n",
       "         5539.,  6565., 24609.,  5212.,  3739.,  5507., 12902.,  3515.,\n",
       "         2124., 21635., 12101., 10052.,  5083., 13172.,  9258.,  7511.,\n",
       "         7755.,  1962.,  6988., 18726.,  2947., 14479.,  1124.,  1042.,\n",
       "         8430.,  1273., 10147.,  1845.,  5600.,   842.,  2242.,  1501.,\n",
       "         4239.,  1264.]),\n",
       " array([  1.  ,   4.96,   8.92,  12.88,  16.84,  20.8 ,  24.76,  28.72,\n",
       "         32.68,  36.64,  40.6 ,  44.56,  48.52,  52.48,  56.44,  60.4 ,\n",
       "         64.36,  68.32,  72.28,  76.24,  80.2 ,  84.16,  88.12,  92.08,\n",
       "         96.04, 100.  , 103.96, 107.92, 111.88, 115.84, 119.8 , 123.76,\n",
       "        127.72, 131.68, 135.64, 139.6 , 143.56, 147.52, 151.48, 155.44,\n",
       "        159.4 , 163.36, 167.32, 171.28, 175.24, 179.2 , 183.16, 187.12,\n",
       "        191.08, 195.04, 199.  ]),\n",
       " <a list of 50 Patch objects>)"
      ]
     },
     "execution_count": 10,
     "metadata": {},
     "output_type": "execute_result"
    },
    {
     "data": {
      "image/png": "[encoded data removed]",
      "text/plain": [
       "<Figure size 864x432 with 4 Axes>"
      ]
     },
     "metadata": {
      "needs_background": "light"
     },
     "output_type": "display_data"
    }
   ],
   "source": [
    "fig, ((ax1, ax2), (ax3, ax4)) = plt.subplots(2, 2)\n",
    "fig.set_figheight(6)\n",
    "fig.set_figwidth(12)\n",
    "ax1.hist(df['Power'], bins=50)\n",
    "ax2.hist(df[(df['Power'] > 0) & (df['Power'] < 1000)]['Power'], bins=50)\n",
    "ax3.hist(df[(df['Power'] > 0) & (df['Power'] < 10)]['Power'], bins=50)\n",
    "ax4.hist(df[(df['Power'] > 0) & (df['Power'] < 200)]['Power'], bins=50)"
   ]
  },
  {
   "cell_type": "markdown",
   "metadata": {},
   "source": [
    "Оставим значения мощности между 50 и 400 л.с."
   ]
  },
  {
   "cell_type": "code",
   "execution_count": 11,
   "metadata": {},
   "outputs": [
    {
     "name": "stdout",
     "output_type": "stream",
     "text": [
      "<class 'pandas.core.frame.DataFrame'>\n",
      "Int64Index: 300105 entries, 1 to 354368\n",
      "Data columns (total 16 columns):\n",
      "DateCrawled          300105 non-null object\n",
      "Price                300105 non-null int64\n",
      "VehicleType          279572 non-null object\n",
      "RegistrationYear     300105 non-null int64\n",
      "Gearbox              294515 non-null object\n",
      "Power                300105 non-null int64\n",
      "Model                288374 non-null object\n",
      "Kilometer            300105 non-null int64\n",
      "RegistrationMonth    300105 non-null int64\n",
      "FuelType             281258 non-null object\n",
      "Brand                300105 non-null object\n",
      "NotRepaired          254860 non-null object\n",
      "DateCreated          300105 non-null object\n",
      "NumberOfPictures     300105 non-null int64\n",
      "PostalCode           300105 non-null int64\n",
      "LastSeen             300105 non-null object\n",
      "dtypes: int64(7), object(9)\n",
      "memory usage: 38.9+ MB\n"
     ]
    }
   ],
   "source": [
    "df = df[(df['Power'] >= 50) & (df['Power'] <= 400)]\n",
    "df.info()"
   ]
  },
  {
   "cell_type": "markdown",
   "metadata": {},
   "source": [
    "<hr>\n",
    "\n",
    "Рассмотрим регистрацию месяца?"
   ]
  },
  {
   "cell_type": "code",
   "execution_count": 12,
   "metadata": {
    "scrolled": true
   },
   "outputs": [
    {
     "data": {
      "text/plain": [
       "<matplotlib.axes._subplots.AxesSubplot at 0x7f780fd6e290>"
      ]
     },
     "execution_count": 12,
     "metadata": {},
     "output_type": "execute_result"
    },
    {
     "data": {
      "image/png": "[encoded data removed]",
      "text/plain": [
       "<Figure size 432x288 with 1 Axes>"
      ]
     },
     "metadata": {
      "needs_background": "light"
     },
     "output_type": "display_data"
    }
   ],
   "source": [
    "df['RegistrationMonth'].hist(bins=13)"
   ]
  },
  {
   "cell_type": "markdown",
   "metadata": {},
   "source": [
    "Удаляем \"нулевые\" месяцы "
   ]
  },
  {
   "cell_type": "code",
   "execution_count": 13,
   "metadata": {},
   "outputs": [
    {
     "data": {
      "text/html": [
       "<div>\n",
       "<style scoped>\n",
       "    .dataframe tbody tr th:only-of-type {\n",
       "        vertical-align: middle;\n",
       "    }\n",
       "\n",
       "    .dataframe tbody tr th {\n",
       "        vertical-align: top;\n",
       "    }\n",
       "\n",
       "    .dataframe thead th {\n",
       "        text-align: right;\n",
       "    }\n",
       "</style>\n",
       "<table border=\"1\" class=\"dataframe\">\n",
       "  <thead>\n",
       "    <tr style=\"text-align: right;\">\n",
       "      <th></th>\n",
       "      <th>Price</th>\n",
       "      <th>RegistrationYear</th>\n",
       "      <th>Power</th>\n",
       "      <th>Kilometer</th>\n",
       "      <th>RegistrationMonth</th>\n",
       "      <th>NumberOfPictures</th>\n",
       "      <th>PostalCode</th>\n",
       "    </tr>\n",
       "  </thead>\n",
       "  <tbody>\n",
       "    <tr>\n",
       "      <td>count</td>\n",
       "      <td>281014.000000</td>\n",
       "      <td>281014.000000</td>\n",
       "      <td>281014.000000</td>\n",
       "      <td>281014.000000</td>\n",
       "      <td>281014.000000</td>\n",
       "      <td>281014.0</td>\n",
       "      <td>281014.000000</td>\n",
       "    </tr>\n",
       "    <tr>\n",
       "      <td>mean</td>\n",
       "      <td>5031.503060</td>\n",
       "      <td>2003.534155</td>\n",
       "      <td>122.014113</td>\n",
       "      <td>128142.637022</td>\n",
       "      <td>6.382803</td>\n",
       "      <td>0.0</td>\n",
       "      <td>51390.834385</td>\n",
       "    </tr>\n",
       "    <tr>\n",
       "      <td>std</td>\n",
       "      <td>4629.459838</td>\n",
       "      <td>6.574219</td>\n",
       "      <td>52.000478</td>\n",
       "      <td>36599.983442</td>\n",
       "      <td>3.347042</td>\n",
       "      <td>0.0</td>\n",
       "      <td>25738.449992</td>\n",
       "    </tr>\n",
       "    <tr>\n",
       "      <td>min</td>\n",
       "      <td>10.000000</td>\n",
       "      <td>1910.000000</td>\n",
       "      <td>50.000000</td>\n",
       "      <td>5000.000000</td>\n",
       "      <td>1.000000</td>\n",
       "      <td>0.0</td>\n",
       "      <td>1067.000000</td>\n",
       "    </tr>\n",
       "    <tr>\n",
       "      <td>25%</td>\n",
       "      <td>1499.000000</td>\n",
       "      <td>1999.000000</td>\n",
       "      <td>80.000000</td>\n",
       "      <td>125000.000000</td>\n",
       "      <td>4.000000</td>\n",
       "      <td>0.0</td>\n",
       "      <td>31134.000000</td>\n",
       "    </tr>\n",
       "    <tr>\n",
       "      <td>50%</td>\n",
       "      <td>3400.000000</td>\n",
       "      <td>2004.000000</td>\n",
       "      <td>115.000000</td>\n",
       "      <td>150000.000000</td>\n",
       "      <td>6.000000</td>\n",
       "      <td>0.0</td>\n",
       "      <td>50667.000000</td>\n",
       "    </tr>\n",
       "    <tr>\n",
       "      <td>75%</td>\n",
       "      <td>7250.000000</td>\n",
       "      <td>2008.000000</td>\n",
       "      <td>150.000000</td>\n",
       "      <td>150000.000000</td>\n",
       "      <td>9.000000</td>\n",
       "      <td>0.0</td>\n",
       "      <td>72172.000000</td>\n",
       "    </tr>\n",
       "    <tr>\n",
       "      <td>max</td>\n",
       "      <td>20000.000000</td>\n",
       "      <td>2019.000000</td>\n",
       "      <td>400.000000</td>\n",
       "      <td>150000.000000</td>\n",
       "      <td>12.000000</td>\n",
       "      <td>0.0</td>\n",
       "      <td>99998.000000</td>\n",
       "    </tr>\n",
       "  </tbody>\n",
       "</table>\n",
       "</div>"
      ],
      "text/plain": [
       "               Price  RegistrationYear          Power      Kilometer  \\\n",
       "count  281014.000000     281014.000000  281014.000000  281014.000000   \n",
       "mean     5031.503060       2003.534155     122.014113  128142.637022   \n",
       "std      4629.459838          6.574219      52.000478   36599.983442   \n",
       "min        10.000000       1910.000000      50.000000    5000.000000   \n",
       "25%      1499.000000       1999.000000      80.000000  125000.000000   \n",
       "50%      3400.000000       2004.000000     115.000000  150000.000000   \n",
       "75%      7250.000000       2008.000000     150.000000  150000.000000   \n",
       "max     20000.000000       2019.000000     400.000000  150000.000000   \n",
       "\n",
       "       RegistrationMonth  NumberOfPictures     PostalCode  \n",
       "count      281014.000000          281014.0  281014.000000  \n",
       "mean            6.382803               0.0   51390.834385  \n",
       "std             3.347042               0.0   25738.449992  \n",
       "min             1.000000               0.0    1067.000000  \n",
       "25%             4.000000               0.0   31134.000000  \n",
       "50%             6.000000               0.0   50667.000000  \n",
       "75%             9.000000               0.0   72172.000000  \n",
       "max            12.000000               0.0   99998.000000  "
      ]
     },
     "execution_count": 13,
     "metadata": {},
     "output_type": "execute_result"
    }
   ],
   "source": [
    "df = df[df['RegistrationMonth'] != 0]\n",
    "df.describe()"
   ]
  },
  {
   "cell_type": "markdown",
   "metadata": {},
   "source": [
    "<hr>\n",
    "\n",
    "Удалим незначащие признаки"
   ]
  },
  {
   "cell_type": "code",
   "execution_count": 14,
   "metadata": {},
   "outputs": [
    {
     "name": "stdout",
     "output_type": "stream",
     "text": [
      "<class 'pandas.core.frame.DataFrame'>\n",
      "Int64Index: 281014 entries, 1 to 354368\n",
      "Data columns (total 13 columns):\n",
      "Price                281014 non-null int64\n",
      "VehicleType          265706 non-null object\n",
      "RegistrationYear     281014 non-null int64\n",
      "Gearbox              277161 non-null object\n",
      "Power                281014 non-null int64\n",
      "Model                271621 non-null object\n",
      "Kilometer            281014 non-null int64\n",
      "RegistrationMonth    281014 non-null int64\n",
      "FuelType             266991 non-null object\n",
      "Brand                281014 non-null object\n",
      "NotRepaired          245223 non-null object\n",
      "DateCreated          281014 non-null object\n",
      "PostalCode           281014 non-null int64\n",
      "dtypes: int64(6), object(7)\n",
      "memory usage: 30.0+ MB\n"
     ]
    }
   ],
   "source": [
    "df = df.drop(axis=1, columns=['DateCrawled', 'LastSeen', 'NumberOfPictures'])\n",
    "df.info()"
   ]
  },
  {
   "cell_type": "markdown",
   "metadata": {},
   "source": [
    "<hr>\n",
    "\n",
    "Добавим новые признаки **DateRegister**, **DateDiff**."
   ]
  },
  {
   "cell_type": "code",
   "execution_count": 15,
   "metadata": {
    "scrolled": true
   },
   "outputs": [
    {
     "data": {
      "text/html": [
       "<div>\n",
       "<style scoped>\n",
       "    .dataframe tbody tr th:only-of-type {\n",
       "        vertical-align: middle;\n",
       "    }\n",
       "\n",
       "    .dataframe tbody tr th {\n",
       "        vertical-align: top;\n",
       "    }\n",
       "\n",
       "    .dataframe thead th {\n",
       "        text-align: right;\n",
       "    }\n",
       "</style>\n",
       "<table border=\"1\" class=\"dataframe\">\n",
       "  <thead>\n",
       "    <tr style=\"text-align: right;\">\n",
       "      <th></th>\n",
       "      <th>Price</th>\n",
       "      <th>VehicleType</th>\n",
       "      <th>RegistrationYear</th>\n",
       "      <th>Gearbox</th>\n",
       "      <th>Power</th>\n",
       "      <th>Model</th>\n",
       "      <th>Kilometer</th>\n",
       "      <th>RegistrationMonth</th>\n",
       "      <th>FuelType</th>\n",
       "      <th>Brand</th>\n",
       "      <th>NotRepaired</th>\n",
       "      <th>DateCreated</th>\n",
       "      <th>PostalCode</th>\n",
       "      <th>DateRegister</th>\n",
       "      <th>DateDiff</th>\n",
       "      <th>DateDiffMonth</th>\n",
       "    </tr>\n",
       "  </thead>\n",
       "  <tbody>\n",
       "    <tr>\n",
       "      <td>1</td>\n",
       "      <td>18300</td>\n",
       "      <td>coupe</td>\n",
       "      <td>2011</td>\n",
       "      <td>manual</td>\n",
       "      <td>190</td>\n",
       "      <td>NaN</td>\n",
       "      <td>125000</td>\n",
       "      <td>5</td>\n",
       "      <td>gasoline</td>\n",
       "      <td>audi</td>\n",
       "      <td>yes</td>\n",
       "      <td>2016-03-24</td>\n",
       "      <td>66954</td>\n",
       "      <td>2011-05-01</td>\n",
       "      <td>1789 days</td>\n",
       "      <td>58</td>\n",
       "    </tr>\n",
       "    <tr>\n",
       "      <td>2</td>\n",
       "      <td>9800</td>\n",
       "      <td>suv</td>\n",
       "      <td>2004</td>\n",
       "      <td>auto</td>\n",
       "      <td>163</td>\n",
       "      <td>grand</td>\n",
       "      <td>125000</td>\n",
       "      <td>8</td>\n",
       "      <td>gasoline</td>\n",
       "      <td>jeep</td>\n",
       "      <td>NaN</td>\n",
       "      <td>2016-03-14</td>\n",
       "      <td>90480</td>\n",
       "      <td>2004-08-01</td>\n",
       "      <td>4243 days</td>\n",
       "      <td>139</td>\n",
       "    </tr>\n",
       "    <tr>\n",
       "      <td>3</td>\n",
       "      <td>1500</td>\n",
       "      <td>small</td>\n",
       "      <td>2001</td>\n",
       "      <td>manual</td>\n",
       "      <td>75</td>\n",
       "      <td>golf</td>\n",
       "      <td>150000</td>\n",
       "      <td>6</td>\n",
       "      <td>petrol</td>\n",
       "      <td>volkswagen</td>\n",
       "      <td>no</td>\n",
       "      <td>2016-03-17</td>\n",
       "      <td>91074</td>\n",
       "      <td>2001-06-01</td>\n",
       "      <td>5403 days</td>\n",
       "      <td>177</td>\n",
       "    </tr>\n",
       "    <tr>\n",
       "      <td>4</td>\n",
       "      <td>3600</td>\n",
       "      <td>small</td>\n",
       "      <td>2008</td>\n",
       "      <td>manual</td>\n",
       "      <td>69</td>\n",
       "      <td>fabia</td>\n",
       "      <td>90000</td>\n",
       "      <td>7</td>\n",
       "      <td>gasoline</td>\n",
       "      <td>skoda</td>\n",
       "      <td>no</td>\n",
       "      <td>2016-03-31</td>\n",
       "      <td>60437</td>\n",
       "      <td>2008-07-01</td>\n",
       "      <td>2830 days</td>\n",
       "      <td>92</td>\n",
       "    </tr>\n",
       "    <tr>\n",
       "      <td>5</td>\n",
       "      <td>650</td>\n",
       "      <td>sedan</td>\n",
       "      <td>1995</td>\n",
       "      <td>manual</td>\n",
       "      <td>102</td>\n",
       "      <td>3er</td>\n",
       "      <td>150000</td>\n",
       "      <td>10</td>\n",
       "      <td>petrol</td>\n",
       "      <td>bmw</td>\n",
       "      <td>yes</td>\n",
       "      <td>2016-04-04</td>\n",
       "      <td>33775</td>\n",
       "      <td>1995-10-01</td>\n",
       "      <td>7491 days</td>\n",
       "      <td>246</td>\n",
       "    </tr>\n",
       "  </tbody>\n",
       "</table>\n",
       "</div>"
      ],
      "text/plain": [
       "   Price VehicleType  RegistrationYear Gearbox  Power  Model  Kilometer  \\\n",
       "1  18300       coupe              2011  manual    190    NaN     125000   \n",
       "2   9800         suv              2004    auto    163  grand     125000   \n",
       "3   1500       small              2001  manual     75   golf     150000   \n",
       "4   3600       small              2008  manual     69  fabia      90000   \n",
       "5    650       sedan              1995  manual    102    3er     150000   \n",
       "\n",
       "   RegistrationMonth  FuelType       Brand NotRepaired DateCreated  \\\n",
       "1                  5  gasoline        audi         yes  2016-03-24   \n",
       "2                  8  gasoline        jeep         NaN  2016-03-14   \n",
       "3                  6    petrol  volkswagen          no  2016-03-17   \n",
       "4                  7  gasoline       skoda          no  2016-03-31   \n",
       "5                 10    petrol         bmw         yes  2016-04-04   \n",
       "\n",
       "   PostalCode DateRegister  DateDiff  DateDiffMonth  \n",
       "1       66954   2011-05-01 1789 days             58  \n",
       "2       90480   2004-08-01 4243 days            139  \n",
       "3       91074   2001-06-01 5403 days            177  \n",
       "4       60437   2008-07-01 2830 days             92  \n",
       "5       33775   1995-10-01 7491 days            246  "
      ]
     },
     "execution_count": 15,
     "metadata": {},
     "output_type": "execute_result"
    }
   ],
   "source": [
    "df['DateRegister'] = df['RegistrationMonth'].astype('str')+'.'+df['RegistrationYear'].astype('str')\n",
    "# Преобразуем признаки в формат даты\n",
    "df['DateRegister'] = pd.to_datetime(df['DateRegister'], format='%m.%Y')\n",
    "df['DateCreated'] = pd.to_datetime(df['DateCreated'], format='%Y-%m-%d %H:%M:%S') \n",
    "df['DateDiff'] = df['DateCreated'] - df['DateRegister']\n",
    "df['DateDiffMonth'] = df['DateDiff']/np.timedelta64(1, 'M')\n",
    "df['DateDiffMonth'] = df['DateDiffMonth'].astype('int')\n",
    "df.head()"
   ]
  },
  {
   "cell_type": "markdown",
   "metadata": {},
   "source": [
    "<hr>\n",
    "\n",
    "Удаляем пропуски"
   ]
  },
  {
   "cell_type": "code",
   "execution_count": 16,
   "metadata": {},
   "outputs": [],
   "source": [
    "df.dropna(inplace=True)"
   ]
  },
  {
   "cell_type": "code",
   "execution_count": 17,
   "metadata": {},
   "outputs": [],
   "source": [
    "df['PostalCode'] = df['PostalCode'].astype('category')\n",
    "df['RegistrationMonth'] = df['RegistrationMonth'].astype('category')"
   ]
  },
  {
   "cell_type": "code",
   "execution_count": 18,
   "metadata": {},
   "outputs": [
    {
     "name": "stdout",
     "output_type": "stream",
     "text": [
      "<class 'pandas.core.frame.DataFrame'>\n",
      "Int64Index: 224060 entries, 3 to 354367\n",
      "Data columns (total 16 columns):\n",
      "Price                224060 non-null int64\n",
      "VehicleType          224060 non-null object\n",
      "RegistrationYear     224060 non-null int64\n",
      "Gearbox              224060 non-null object\n",
      "Power                224060 non-null int64\n",
      "Model                224060 non-null object\n",
      "Kilometer            224060 non-null int64\n",
      "RegistrationMonth    224060 non-null category\n",
      "FuelType             224060 non-null object\n",
      "Brand                224060 non-null object\n",
      "NotRepaired          224060 non-null object\n",
      "DateCreated          224060 non-null datetime64[ns]\n",
      "PostalCode           224060 non-null category\n",
      "DateRegister         224060 non-null datetime64[ns]\n",
      "DateDiff             224060 non-null timedelta64[ns]\n",
      "DateDiffMonth        224060 non-null int64\n",
      "dtypes: category(2), datetime64[ns](2), int64(5), object(6), timedelta64[ns](1)\n",
      "memory usage: 26.7+ MB\n"
     ]
    }
   ],
   "source": [
    "df.info()"
   ]
  },
  {
   "cell_type": "markdown",
   "metadata": {},
   "source": [
    "<hr>\n",
    "Взглянем на корреляцию данных"
   ]
  },
  {
   "cell_type": "code",
   "execution_count": 19,
   "metadata": {
    "scrolled": true
   },
   "outputs": [
    {
     "data": {
      "text/plain": [
       "Price               1.000000\n",
       "RegistrationYear    0.577879\n",
       "Power               0.502033\n",
       "Kilometer          -0.414941\n",
       "DateDiffMonth      -0.577778\n",
       "Name: Price, dtype: float64"
      ]
     },
     "execution_count": 19,
     "metadata": {},
     "output_type": "execute_result"
    }
   ],
   "source": [
    "df.corr()['Price']"
   ]
  },
  {
   "cell_type": "markdown",
   "metadata": {},
   "source": [
    "\n",
    "Очевидно есть прямая зависимость цены с мощностью и годом регистрации и обратная зависимость с пробегом временем прощедшим с даты регистрации до подачи завявки"
   ]
  },
  {
   "cell_type": "markdown",
   "metadata": {},
   "source": [
    "# 2. Обучение моделей"
   ]
  },
  {
   "cell_type": "markdown",
   "metadata": {},
   "source": [
    "<hr>\n",
    "\n",
    "Функция для оценки качества моделей"
   ]
  },
  {
   "cell_type": "code",
   "execution_count": 20,
   "metadata": {},
   "outputs": [],
   "source": [
    "def rmse(y_actual, y_predicted):\n",
    "    return sqrt(mse(y_actual, y_predicted))"
   ]
  },
  {
   "cell_type": "markdown",
   "metadata": {},
   "source": [
    "<hr>\n",
    "\n",
    "Готовим данные для обучения моделей"
   ]
  },
  {
   "cell_type": "code",
   "execution_count": 21,
   "metadata": {},
   "outputs": [
    {
     "name": "stdout",
     "output_type": "stream",
     "text": [
      "Количество строк для обучения 179248\n",
      "Количество строк для предсказания 44812\n"
     ]
    }
   ],
   "source": [
    "features_train, features_valid, target_train, target_valid = train_test_split(\n",
    "    df.drop(columns=['Price'], axis=1), df['Price'], test_size=0.2, random_state=42)\n",
    "\n",
    "cat_features = ['VehicleType', 'Gearbox', 'Model', \n",
    "                'FuelType', 'Brand', 'NotRepaired', \n",
    "                'RegistrationMonth', 'PostalCode']\n",
    "num_train_rows = features_train.shape[0]\n",
    "num_test_rows = features_valid.shape[0]\n",
    "\n",
    "print('Количество строк для обучения', num_train_rows)\n",
    "print('Количество строк для предсказания', num_test_rows)"
   ]
  },
  {
   "cell_type": "markdown",
   "metadata": {},
   "source": [
    "Создадим таблицу для сравнения моделей"
   ]
  },
  {
   "cell_type": "code",
   "execution_count": 22,
   "metadata": {},
   "outputs": [],
   "source": [
    "compare_cols = {\n",
    "    'Модель':[],\n",
    "    'Время обучения':[],\n",
    "    'Скорость обучения':[],\n",
    "    'Время предсказания':[],\n",
    "    'Скорость предсказания':[],\n",
    "    'RMSE':[],\n",
    "}\n",
    "df_compare = pd.DataFrame(compare_cols)"
   ]
  },
  {
   "cell_type": "markdown",
   "metadata": {},
   "source": [
    "<hr>\n",
    "\n",
    "КатБуст"
   ]
  },
  {
   "cell_type": "code",
   "execution_count": 23,
   "metadata": {},
   "outputs": [
    {
     "name": "stdout",
     "output_type": "stream",
     "text": [
      "0:\tlearn: 3043.7517995\ttotal: 684ms\tremaining: 5m 41s\n",
      "10:\tlearn: 1884.5729459\ttotal: 7.06s\tremaining: 5m 13s\n",
      "20:\tlearn: 1767.4880642\ttotal: 13.5s\tremaining: 5m 9s\n",
      "30:\tlearn: 1715.4692792\ttotal: 19.3s\tremaining: 4m 52s\n",
      "40:\tlearn: 1683.8782672\ttotal: 25.4s\tremaining: 4m 44s\n",
      "50:\tlearn: 1659.4636324\ttotal: 31s\tremaining: 4m 32s\n",
      "60:\tlearn: 1641.7659271\ttotal: 37s\tremaining: 4m 26s\n",
      "70:\tlearn: 1627.7598383\ttotal: 43.1s\tremaining: 4m 20s\n",
      "80:\tlearn: 1615.2255424\ttotal: 49.5s\tremaining: 4m 16s\n",
      "90:\tlearn: 1604.4128386\ttotal: 55.7s\tremaining: 4m 10s\n",
      "100:\tlearn: 1595.2622677\ttotal: 1m 1s\tremaining: 4m 4s\n",
      "110:\tlearn: 1586.2133694\ttotal: 1m 7s\tremaining: 3m 57s\n",
      "120:\tlearn: 1580.6851075\ttotal: 1m 13s\tremaining: 3m 51s\n",
      "130:\tlearn: 1574.6257233\ttotal: 1m 20s\tremaining: 3m 45s\n",
      "140:\tlearn: 1569.0326227\ttotal: 1m 26s\tremaining: 3m 39s\n",
      "150:\tlearn: 1562.8280525\ttotal: 1m 31s\tremaining: 3m 32s\n",
      "160:\tlearn: 1558.0358056\ttotal: 1m 38s\tremaining: 3m 27s\n",
      "170:\tlearn: 1554.6477439\ttotal: 1m 44s\tremaining: 3m 20s\n",
      "180:\tlearn: 1546.5390934\ttotal: 1m 50s\tremaining: 3m 14s\n",
      "190:\tlearn: 1542.7004063\ttotal: 1m 56s\tremaining: 3m 8s\n",
      "200:\tlearn: 1539.6751539\ttotal: 2m 2s\tremaining: 3m 1s\n",
      "210:\tlearn: 1534.7523808\ttotal: 2m 8s\tremaining: 2m 55s\n",
      "220:\tlearn: 1531.4359837\ttotal: 2m 14s\tremaining: 2m 49s\n",
      "230:\tlearn: 1528.8817464\ttotal: 2m 20s\tremaining: 2m 43s\n",
      "240:\tlearn: 1525.2131640\ttotal: 2m 26s\tremaining: 2m 37s\n",
      "250:\tlearn: 1522.2591233\ttotal: 2m 32s\tremaining: 2m 31s\n",
      "260:\tlearn: 1519.5298681\ttotal: 2m 38s\tremaining: 2m 25s\n",
      "270:\tlearn: 1517.3389987\ttotal: 2m 44s\tremaining: 2m 19s\n",
      "280:\tlearn: 1514.3699790\ttotal: 2m 50s\tremaining: 2m 12s\n",
      "290:\tlearn: 1512.3529462\ttotal: 2m 56s\tremaining: 2m 6s\n",
      "300:\tlearn: 1509.3312592\ttotal: 3m 3s\tremaining: 2m\n",
      "310:\tlearn: 1507.5475285\ttotal: 3m 8s\tremaining: 1m 54s\n",
      "320:\tlearn: 1505.6467256\ttotal: 3m 14s\tremaining: 1m 48s\n",
      "330:\tlearn: 1502.7124766\ttotal: 3m 20s\tremaining: 1m 42s\n",
      "340:\tlearn: 1499.9926335\ttotal: 3m 26s\tremaining: 1m 36s\n",
      "350:\tlearn: 1496.8392868\ttotal: 3m 32s\tremaining: 1m 30s\n",
      "360:\tlearn: 1494.1229900\ttotal: 3m 39s\tremaining: 1m 24s\n",
      "370:\tlearn: 1491.7156428\ttotal: 3m 45s\tremaining: 1m 18s\n",
      "380:\tlearn: 1489.3036437\ttotal: 3m 52s\tremaining: 1m 12s\n",
      "390:\tlearn: 1486.3771141\ttotal: 3m 58s\tremaining: 1m 6s\n",
      "400:\tlearn: 1484.7844100\ttotal: 4m 4s\tremaining: 1m\n",
      "410:\tlearn: 1483.5468651\ttotal: 4m 10s\tremaining: 54.2s\n",
      "420:\tlearn: 1482.3697548\ttotal: 4m 16s\tremaining: 48.1s\n",
      "430:\tlearn: 1480.5425606\ttotal: 4m 22s\tremaining: 42s\n",
      "440:\tlearn: 1478.9380283\ttotal: 4m 28s\tremaining: 36s\n",
      "450:\tlearn: 1476.3144263\ttotal: 4m 35s\tremaining: 29.9s\n",
      "460:\tlearn: 1474.4151253\ttotal: 4m 41s\tremaining: 23.8s\n",
      "470:\tlearn: 1472.6634441\ttotal: 4m 47s\tremaining: 17.7s\n",
      "480:\tlearn: 1470.7089673\ttotal: 4m 54s\tremaining: 11.6s\n",
      "490:\tlearn: 1468.7431700\ttotal: 5m\tremaining: 5.5s\n",
      "499:\tlearn: 1466.6569759\ttotal: 5m 5s\tremaining: 0us\n",
      "CPU times: user 4min 32s, sys: 35.7 s, total: 5min 8s\n",
      "Wall time: 5min 12s\n"
     ]
    },
    {
     "data": {
      "text/plain": [
       "<catboost.core.CatBoostRegressor at 0x7f780fccb350>"
      ]
     },
     "execution_count": 23,
     "metadata": {},
     "output_type": "execute_result"
    }
   ],
   "source": [
    "%%time\n",
    "model = CatBoostRegressor(\n",
    "    loss_function=\"RMSE\", \n",
    "    iterations=500, \n",
    "    depth=5, \n",
    "    l2_leaf_reg=10,\n",
    "    learning_rate=0.65, \n",
    "    random_seed=42,\n",
    "    bagging_temperature=.5\n",
    ")\n",
    "\n",
    "model.fit(features_train, target_train, cat_features=cat_features, verbose=10)"
   ]
  },
  {
   "cell_type": "code",
   "execution_count": 24,
   "metadata": {},
   "outputs": [
    {
     "name": "stdout",
     "output_type": "stream",
     "text": [
      "1558.7714293503036\n",
      "CPU times: user 904 ms, sys: 32 ms, total: 936 ms\n",
      "Wall time: 932 ms\n"
     ]
    }
   ],
   "source": [
    "%%time\n",
    "predict = model.predict(features_valid)\n",
    "print(rmse(target_valid, predict))"
   ]
  },
  {
   "cell_type": "code",
   "execution_count": 25,
   "metadata": {},
   "outputs": [],
   "source": [
    "df_compare = df_compare.append({\n",
    "    'Модель':'CatBoost',\n",
    "    'Время обучения':'4min 55s',\n",
    "    'Скорость обучения':num_train_rows/(4*60 + 55),\n",
    "    'Время предсказания':'795 ms',\n",
    "    'Скорость предсказания':num_test_rows/(0.795),\n",
    "    'RMSE':'1558'\n",
    "}, ignore_index=True)"
   ]
  },
  {
   "cell_type": "markdown",
   "metadata": {},
   "source": [
    "<hr>\n",
    "\n",
    "Кодирование"
   ]
  },
  {
   "cell_type": "code",
   "execution_count": 26,
   "metadata": {},
   "outputs": [
    {
     "name": "stdout",
     "output_type": "stream",
     "text": [
      "Количество строк для обучения 179248\n",
      "Количество строк для предсказания 44812\n"
     ]
    }
   ],
   "source": [
    "cat_features.remove('PostalCode')\n",
    "df_enc = pd.get_dummies(\n",
    "    df.drop(axis=1, columns=['PostalCode', 'DateCreated', 'DateRegister', 'DateDiff']), \n",
    "    columns=cat_features, \n",
    "    drop_first=True\n",
    ")\n",
    "features_train, features_valid, target_train, target_valid = train_test_split(\n",
    "    df_enc.drop(columns=['Price'], axis=1), \n",
    "    df_enc['Price'], \n",
    "    test_size=0.2, \n",
    "    random_state=42\n",
    ")\n",
    "\n",
    "num_train_rows = features_train.shape[0]\n",
    "num_test_rows = features_valid.shape[0]\n",
    "\n",
    "print('Количество строк для обучения', num_train_rows)\n",
    "print('Количество строк для предсказания', num_test_rows)"
   ]
  },
  {
   "cell_type": "markdown",
   "metadata": {},
   "source": [
    "<hr>\n",
    "\n",
    "XGBoost"
   ]
  },
  {
   "cell_type": "code",
   "execution_count": 27,
   "metadata": {},
   "outputs": [
    {
     "name": "stderr",
     "output_type": "stream",
     "text": [
      "/opt/conda/lib/python3.7/site-packages/xgboost/core.py:587: FutureWarning: Series.base is deprecated and will be removed in a future version\n",
      "  if getattr(data, 'base', None) is not None and \\\n"
     ]
    },
    {
     "name": "stdout",
     "output_type": "stream",
     "text": [
      "CPU times: user 5min 41s, sys: 0 ns, total: 5min 41s\n",
      "Wall time: 5min 50s\n"
     ]
    },
    {
     "data": {
      "text/plain": [
       "XGBRegressor(alpha=10, base_score=0.5, booster='gbtree', colsample_bylevel=1,\n",
       "             colsample_bynode=1, colsample_bytree=0.7, gamma=0,\n",
       "             importance_type='gain', learning_rate=0.7, max_delta_step=0,\n",
       "             max_depth=10, min_child_weight=1, missing=None, n_estimators=80,\n",
       "             n_jobs=1, nthread=None, objective='reg:squarederror',\n",
       "             random_state=0, reg_alpha=0, reg_lambda=1, scale_pos_weight=1,\n",
       "             seed=None, silent=None, subsample=0.5, verbosity=1)"
      ]
     },
     "execution_count": 27,
     "metadata": {},
     "output_type": "execute_result"
    }
   ],
   "source": [
    "%%time\n",
    "\n",
    "xg_reg = xgb.XGBRegressor(\n",
    "    objective ='reg:squarederror', \n",
    "    colsample_bytree = 0.7, \n",
    "    learning_rate = 0.7,\n",
    "    max_depth = 10, \n",
    "    alpha = 10, \n",
    "    n_estimators = 80,\n",
    "    subsample = 0.5\n",
    ")\n",
    "xg_reg.fit(features_train,target_train)\n",
    "\n"
   ]
  },
  {
   "cell_type": "code",
   "execution_count": 28,
   "metadata": {},
   "outputs": [
    {
     "name": "stdout",
     "output_type": "stream",
     "text": [
      "1706.4110629938998\n",
      "CPU times: user 796 ms, sys: 0 ns, total: 796 ms\n",
      "Wall time: 809 ms\n"
     ]
    }
   ],
   "source": [
    "%%time\n",
    "predict = xg_reg.predict(features_valid)\n",
    "print(rmse(target_valid, predict))"
   ]
  },
  {
   "cell_type": "code",
   "execution_count": 29,
   "metadata": {},
   "outputs": [],
   "source": [
    "df_compare = df_compare.append({\n",
    "    'Модель':'XGB',\n",
    "    'Время обучения':'5min 13s',\n",
    "    'Скорость обучения':num_train_rows/(5*60 + 13),\n",
    "    'Время предсказания':'718 ms',\n",
    "    'Скорость предсказания':num_test_rows/(0.718),\n",
    "    'RMSE':'1706'\n",
    "}, ignore_index=True)"
   ]
  },
  {
   "cell_type": "markdown",
   "metadata": {},
   "source": [
    "<hr>\n",
    "\n",
    "LightGBM"
   ]
  },
  {
   "cell_type": "code",
   "execution_count": 30,
   "metadata": {},
   "outputs": [
    {
     "name": "stdout",
     "output_type": "stream",
     "text": [
      "[1]\tvalid_0's l2: 7.45377e+06\tvalid_0's l1: 2072.89\n",
      "Training until validation scores don't improve for 5 rounds\n",
      "[2]\tvalid_0's l2: 4.84004e+06\tvalid_0's l1: 1572.45\n",
      "[3]\tvalid_0's l2: 3.99316e+06\tvalid_0's l1: 1361.84\n",
      "[4]\tvalid_0's l2: 3.60213e+06\tvalid_0's l1: 1275.81\n",
      "[5]\tvalid_0's l2: 3.41195e+06\tvalid_0's l1: 1232.15\n",
      "[6]\tvalid_0's l2: 3.30421e+06\tvalid_0's l1: 1205.43\n",
      "[7]\tvalid_0's l2: 3.20294e+06\tvalid_0's l1: 1185.36\n",
      "[8]\tvalid_0's l2: 3.1525e+06\tvalid_0's l1: 1175.94\n",
      "[9]\tvalid_0's l2: 3.08452e+06\tvalid_0's l1: 1158.57\n",
      "[10]\tvalid_0's l2: 3.03671e+06\tvalid_0's l1: 1147.27\n",
      "[11]\tvalid_0's l2: 3.00029e+06\tvalid_0's l1: 1140.76\n",
      "[12]\tvalid_0's l2: 2.95547e+06\tvalid_0's l1: 1132.22\n",
      "[13]\tvalid_0's l2: 2.93515e+06\tvalid_0's l1: 1128.1\n",
      "[14]\tvalid_0's l2: 2.91561e+06\tvalid_0's l1: 1124.2\n",
      "[15]\tvalid_0's l2: 2.89699e+06\tvalid_0's l1: 1119.01\n",
      "[16]\tvalid_0's l2: 2.86079e+06\tvalid_0's l1: 1110.5\n",
      "[17]\tvalid_0's l2: 2.83495e+06\tvalid_0's l1: 1105.47\n",
      "[18]\tvalid_0's l2: 2.81475e+06\tvalid_0's l1: 1100.16\n",
      "[19]\tvalid_0's l2: 2.8087e+06\tvalid_0's l1: 1098.39\n",
      "[20]\tvalid_0's l2: 2.79713e+06\tvalid_0's l1: 1096.62\n",
      "Did not meet early stopping. Best iteration is:\n",
      "[20]\tvalid_0's l2: 2.79713e+06\tvalid_0's l1: 1096.62\n",
      "CPU times: user 3.05 s, sys: 0 ns, total: 3.05 s\n",
      "Wall time: 3.09 s\n"
     ]
    }
   ],
   "source": [
    "%%time\n",
    "lgb_train = lgb.Dataset(features_train, target_train)\n",
    "lgb_eval = lgb.Dataset(features_valid, target_valid, reference=lgb_train)\n",
    "\n",
    "params = {\n",
    "    'boosting_type': 'gbdt',\n",
    "    'objective': 'regression',\n",
    "    'metric': {'l2', 'l1'},\n",
    "    'num_leaves': 41,\n",
    "    'learning_rate': 0.65,\n",
    "    'feature_fraction': 0.9,\n",
    "    'bagging_fraction': 0.8,\n",
    "    'bagging_freq': 5,\n",
    "    'verbose': 10\n",
    "}\n",
    "\n",
    "gbm = lgb.train(params,\n",
    "                lgb_train,\n",
    "                num_boost_round=20,\n",
    "                valid_sets=lgb_eval,\n",
    "                early_stopping_rounds=5\n",
    ")\n"
   ]
  },
  {
   "cell_type": "code",
   "execution_count": 31,
   "metadata": {},
   "outputs": [
    {
     "name": "stdout",
     "output_type": "stream",
     "text": [
      "1672.4636593247094\n",
      "CPU times: user 300 ms, sys: 0 ns, total: 300 ms\n",
      "Wall time: 319 ms\n"
     ]
    }
   ],
   "source": [
    "%%time\n",
    "\n",
    "y_pred = gbm.predict(features_valid, num_iteration=gbm.best_iteration)\n",
    "print(rmse(target_valid, y_pred))"
   ]
  },
  {
   "cell_type": "code",
   "execution_count": 32,
   "metadata": {},
   "outputs": [],
   "source": [
    "df_compare = df_compare.append({\n",
    "    'Модель':'LightGBM',\n",
    "    'Время обучения':'2.75 s',\n",
    "    'Скорость обучения':num_train_rows/(2.75),\n",
    "    'Время предсказания':'311 ms',\n",
    "    'Скорость предсказания':num_test_rows/(0.311),\n",
    "    'RMSE':'1672'\n",
    "}, ignore_index=True)"
   ]
  },
  {
   "cell_type": "markdown",
   "metadata": {},
   "source": [
    "# 3. Анализ моделей"
   ]
  },
  {
   "cell_type": "markdown",
   "metadata": {},
   "source": [
    "Для проверки на адекватность:Константая модель - всегда дает среднее значение"
   ]
  },
  {
   "cell_type": "code",
   "execution_count": 33,
   "metadata": {},
   "outputs": [],
   "source": [
    "class Const_model:\n",
    "    def fit(self, y, mode='mean'):\n",
    "        if mode == 'mean':\n",
    "            self.y = y.mean()\n",
    "        if mode == 'median':\n",
    "            self.y = y.median()\n",
    "        \n",
    "    def predict(self, x):\n",
    "        return [self.y for _ in range(len(x))]"
   ]
  },
  {
   "cell_type": "code",
   "execution_count": 34,
   "metadata": {},
   "outputs": [
    {
     "name": "stdout",
     "output_type": "stream",
     "text": [
      "CPU times: user 0 ns, sys: 0 ns, total: 0 ns\n",
      "Wall time: 833 µs\n"
     ]
    }
   ],
   "source": [
    "%%time\n",
    "const_m = Const_model()\n",
    "const_m.fit(target_train, mode='mean')"
   ]
  },
  {
   "cell_type": "code",
   "execution_count": 35,
   "metadata": {},
   "outputs": [
    {
     "name": "stdout",
     "output_type": "stream",
     "text": [
      "4733.201731464316\n",
      "CPU times: user 8 ms, sys: 0 ns, total: 8 ms\n",
      "Wall time: 10.1 ms\n"
     ]
    }
   ],
   "source": [
    "%%time\n",
    "pred = const_m.predict(target_valid)\n",
    "print(rmse(target_valid, pred))"
   ]
  },
  {
   "cell_type": "code",
   "execution_count": 36,
   "metadata": {},
   "outputs": [],
   "source": [
    "df_compare = df_compare.append({\n",
    "    'Модель':'Test',\n",
    "    'Время обучения':'822 µs',\n",
    "    'Скорость обучения':num_train_rows/(0.000822),\n",
    "    'Время предсказания':'9.7 ms',\n",
    "    'Скорость предсказания':num_test_rows/(0.0097),\n",
    "    'RMSE':'4733'\n",
    "}, ignore_index=True)"
   ]
  },
  {
   "cell_type": "markdown",
   "metadata": {},
   "source": [
    "# Вывод"
   ]
  },
  {
   "cell_type": "code",
   "execution_count": 38,
   "metadata": {},
   "outputs": [
    {
     "data": {
      "text/html": [
       "<div>\n",
       "<style scoped>\n",
       "    .dataframe tbody tr th:only-of-type {\n",
       "        vertical-align: middle;\n",
       "    }\n",
       "\n",
       "    .dataframe tbody tr th {\n",
       "        vertical-align: top;\n",
       "    }\n",
       "\n",
       "    .dataframe thead th {\n",
       "        text-align: right;\n",
       "    }\n",
       "</style>\n",
       "<table border=\"1\" class=\"dataframe\">\n",
       "  <thead>\n",
       "    <tr style=\"text-align: right;\">\n",
       "      <th></th>\n",
       "      <th>Модель</th>\n",
       "      <th>Время обучения</th>\n",
       "      <th>Скорость обучения</th>\n",
       "      <th>Время предсказания</th>\n",
       "      <th>Скорость предсказания</th>\n",
       "      <th>RMSE</th>\n",
       "    </tr>\n",
       "  </thead>\n",
       "  <tbody>\n",
       "    <tr>\n",
       "      <td>0</td>\n",
       "      <td>CatBoost</td>\n",
       "      <td>4min 55s</td>\n",
       "      <td>6.076203e+02</td>\n",
       "      <td>795 ms</td>\n",
       "      <td>5.636730e+04</td>\n",
       "      <td>1558</td>\n",
       "    </tr>\n",
       "    <tr>\n",
       "      <td>1</td>\n",
       "      <td>XGB</td>\n",
       "      <td>5min 13s</td>\n",
       "      <td>5.726773e+02</td>\n",
       "      <td>718 ms</td>\n",
       "      <td>6.241226e+04</td>\n",
       "      <td>1706</td>\n",
       "    </tr>\n",
       "    <tr>\n",
       "      <td>2</td>\n",
       "      <td>LightGBM</td>\n",
       "      <td>2.75 s</td>\n",
       "      <td>6.518109e+04</td>\n",
       "      <td>311 ms</td>\n",
       "      <td>1.440900e+05</td>\n",
       "      <td>1672</td>\n",
       "    </tr>\n",
       "    <tr>\n",
       "      <td>3</td>\n",
       "      <td>Test</td>\n",
       "      <td>822 µs</td>\n",
       "      <td>2.180633e+08</td>\n",
       "      <td>9.7 ms</td>\n",
       "      <td>4.619794e+06</td>\n",
       "      <td>4733</td>\n",
       "    </tr>\n",
       "  </tbody>\n",
       "</table>\n",
       "</div>"
      ],
      "text/plain": [
       "     Модель Время обучения  Скорость обучения Время предсказания  \\\n",
       "0  CatBoost       4min 55s       6.076203e+02             795 ms   \n",
       "1       XGB       5min 13s       5.726773e+02             718 ms   \n",
       "2  LightGBM         2.75 s       6.518109e+04             311 ms   \n",
       "3      Test         822 µs       2.180633e+08             9.7 ms   \n",
       "\n",
       "   Скорость предсказания  RMSE  \n",
       "0           5.636730e+04  1558  \n",
       "1           6.241226e+04  1706  \n",
       "2           1.440900e+05  1672  \n",
       "3           4.619794e+06  4733  "
      ]
     },
     "execution_count": 38,
     "metadata": {},
     "output_type": "execute_result"
    }
   ],
   "source": [
    "df_compare"
   ]
  },
  {
   "cell_type": "markdown",
   "metadata": {},
   "source": [
    "Все модели лучше константой модели, т.е. адекватны. <br>\n",
    "Самая высокая скорость обучения и предсказания (количество записей в секунду) у моедли LightGBM. Но лучше качество метрики у модели CatBoost. <br>\n",
    "- Если надо выбрать саму быструю по предсказаниям модель, то LightGBM\n",
    "- Если саму точную, то CatBoost"
   ]
  }
 ],
 "metadata": {
  "kernelspec": {
   "display_name": "Python 3",
   "language": "python",
   "name": "python3"
  },
  "language_info": {
   "codemirror_mode": {
    "name": "ipython",
    "version": 3
   },
   "file_extension": ".py",
   "mimetype": "text/x-python",
   "name": "python",
   "nbconvert_exporter": "python",
   "pygments_lexer": "ipython3",
   "version": "3.7.4"
  }
 },
 "nbformat": 4,
 "nbformat_minor": 2
}
